{
 "cells": [
  {
   "cell_type": "markdown",
   "metadata": {},
   "source": [
    "## Figure of bathymetry and CS definitions"
   ]
  },
  {
   "cell_type": "code",
   "execution_count": 1,
   "metadata": {
    "collapsed": false
   },
   "outputs": [],
   "source": [
    "from brokenaxes import brokenaxes\n",
    "import cmocean as cmo\n",
    "import matplotlib.pyplot as plt\n",
    "import matplotlib.gridspec as gspec\n",
    "import matplotlib as mpl\n",
    "%matplotlib inline\n",
    "from netCDF4 import Dataset\n",
    "import numpy as np\n",
    "import seaborn as sns\n",
    "import xarray as xr\n",
    "import canyon_tools.readout_tools as rout\n",
    "import canyon_tools.savitzky_golay as sg\n",
    "\n",
    "import warnings\n",
    "warnings.filterwarnings('ignore')"
   ]
  },
  {
   "cell_type": "code",
   "execution_count": 2,
   "metadata": {
    "collapsed": true
   },
   "outputs": [],
   "source": [
    "def plotCSPos(ax,CS1,CS2,CS3,CS4,CS5,LID):\n",
    "    ax.axvline(x=CS1, ymin=1., ymax=0.75, color='0.95',linestyle='-')\n",
    "    ax.axvline(x=CS2, ymin=1., ymax=0.75,color='0.95',linestyle='-')\n",
    "    ax.axvline(x=CS3, ymin=1., ymax=0.75,color='0.95',linestyle='-')\n",
    "    ax.axvline(x=CS4, ymin=1., ymax=0.75,color='0.95',linestyle='-')\n",
    "    ax.axvline(x=CS5, ymin=1., ymax=0.75,color='0.95',linestyle='-')\n",
    "    ax.axhline(y=LID, xmin=0., xmax=1,color='0.95',linestyle='-')\n",
    "\n",
    "\n",
    "def plotPoolArea(ax,xx,yy):\n",
    "    #ax.plot(xx[1,:],yy[1,:],'--k')\n",
    "    ax.plot(xx[:,1],yy[:,1],':r')\n",
    "    ax.plot(xx[-1,:],yy[-1,:],':r')\n",
    "    ax.plot(xx[:,-1],yy[:,-1],':r')\n",
    "\n",
    "def plotCSLines(ax,xx,yy,CS1x,CS2x,CS3x,CS4x):\n",
    "    ax.plot(xx[227,slice(0,CS1x)],yy[227,slice(0,CS1x)],'-',color='0.5',linewidth=3)\n",
    "    ax.plot(xx[227,slice(CS1x,CS2x)],yy[227,slice(CS1x,CS2x)],'-k',linewidth=3)\n",
    "    ax.plot(xx[227,slice(CS2x,CS3x)],yy[227,slice(CS2x,CS3x)],'-',color='0.5',linewidth=3)\n",
    "    ax.plot(xx[227,slice(CS3x,CS4x)],yy[227,slice(CS3x,CS4x)],'-k',linewidth=3)\n",
    "    ax.plot(xx[227,slice(CS4x,360)],yy[227,slice(CS4x,360)],'-',color='0.5',linewidth=3)\n",
    "    "
   ]
  },
  {
   "cell_type": "code",
   "execution_count": 3,
   "metadata": {
    "collapsed": false
   },
   "outputs": [],
   "source": [
    "# Cross-shelf \n",
    "def Plot1_crossshelf(gs_ax,YY,RC, HFacC,depths,zslice,yslice,xind_shelf=100,xind_axis=180,color='black', color_bg='0.7'): \n",
    "    \n",
    "    ax = plt.subplot(gs_ax)\n",
    "    \n",
    "    ax.plot(YY/1000,depths[yslice,xind_shelf],\n",
    "            '--',\n",
    "            color=color,\n",
    "            linewidth=2,\n",
    "                )\n",
    "    ax.plot(YY[yslice]/1000,depths[yslice,xind_axis],\n",
    "            '-',\n",
    "            color=color,\n",
    "            linewidth=2,\n",
    "            )\n",
    "    ax.contourf(YY[yslice]/1000,RC[zslice],HFacC[zslice,yslice,xind_axis],[0,0.5,1],colors=[color_bg,'1','1'])\n",
    "    #ax.axvline(x=grid.Y[227]/1000, linestyle=':',color='k')\n",
    "    #ax.axhline(y=grid.Z[29], linestyle=':',color='k')\n",
    "   \n",
    "    return ax"
   ]
  },
  {
   "cell_type": "code",
   "execution_count": 4,
   "metadata": {
    "collapsed": true
   },
   "outputs": [],
   "source": [
    "# Alongshelf\n",
    "def Plot2_alongshelf(gs_ax,depths,zslice,xslice,yind=227,color='black'): \n",
    "    \n",
    "    ax = plt.subplot(gs_ax)\n",
    "    \n",
    "    plotCSPos(ax,grid.XC[1,60]/1000,grid.XC[1,120]/1000,grid.XC[1,240]/1000,grid.XC[1,300]/1000,\n",
    "              grid.XC[1,360]/1000,grid.Z[29])\n",
    "    ax.plot(grid.X[xslice]/1000,depths[yind,xslice],\n",
    "            '-',\n",
    "            color=color,\n",
    "            linewidth=2,\n",
    "                )\n",
    "    ax.plot(grid.X[xslice]/1000,depths[yind,xslice],\n",
    "            '--',\n",
    "            color=color,\n",
    "            linewidth=2,\n",
    "            )\n",
    "    ax.contourf(grid.X[xslice]/1000,grid.RC[zslice],grid.HFacC[zslice,yind,xslice],[0,0.5,1],colors=['0.7','1','1'])\n",
    "    #ax.axhline(y=grid.Z[29], linestyle=':',color='k')\n",
    "    \n",
    "    return ax"
   ]
  },
  {
   "cell_type": "code",
   "execution_count": 5,
   "metadata": {
    "collapsed": false
   },
   "outputs": [],
   "source": [
    "# Top view\n",
    "def Plot3_topview(gs_ax,depths,xslice,yslice,color='black', clabels=True, colors='0.8'): \n",
    "    \n",
    "    ax = plt.subplot(gs_ax)\n",
    "    \n",
    "    #plotPoolArea(ax,grid.XC[slice(227,315),slice(120,463)]/1000,grid.YC[slice(227,315),slice(120,463)]/1000)\n",
    "    ax.contour(grid.X[xslice]/1000,grid.Y[yslice]/1000,depths[yslice,xslice],[147.5],\n",
    "               colors=['k'])\n",
    "    CS=ax.contour(grid.X[xslice]/1000,grid.Y[yslice]/1000,depths[yslice,xslice],[20,100,200,400,600,800,1000,1200],\n",
    "               colors=colors)\n",
    "    if clabels == True:\n",
    "        plt.clabel(CS, fontsize=9,inline=1,inline_spacing=1,\n",
    "                   fmt = '%1.0f', ticks=[400,600,800,1000])\n",
    "    \n",
    "    return ax\n",
    "\n",
    "\n",
    "# Top view\n",
    "def top_zoom(gs_ax,XX,YY,depths,xslice,yslice,Hs,levels,color='black'): \n",
    "    \n",
    "    ax = plt.subplot(gs_ax)\n",
    "    \n",
    "    CS1 = ax.contour(XX[xslice]/1000,YY[yslice]/1000,depths[yslice,xslice],\n",
    "                    levels,\n",
    "                    colors=['coral'])\n",
    "    \n",
    "    CS2 = ax.contour(XX[xslice]/1000,YY[yslice]/1000,depths[yslice,xslice],\n",
    "                    [Hs],\n",
    "                    colors=['k'])\n",
    "    \n",
    "    manual_locations = [(72.5,60),(72.5,56),(72.5,52)]\n",
    "    #plt.clabel(CS1,levels,fontsize=9,inline=True,inline_spacing=1,\n",
    "    #           manual=manual_locations,\n",
    "    #           fmt = '%1.0f' )\n",
    "    return ax\n",
    "\n",
    "def top_zoom_filled(gs_ax,XX,YY,depths,xslice,yslice,Hs,levels,color='black'): \n",
    "    \n",
    "    ax = plt.subplot(gs_ax)\n",
    "    \n",
    "    CS1 = ax.contourf(XX[xslice]/1000,YY[yslice]/1000,depths[yslice,xslice],\n",
    "                    levels,\n",
    "                    cmap=cmo.cm.rain)\n",
    "    \n",
    "    cbar_ax = f.add_axes([0.9, 0.545, 0.018, 0.332])\n",
    "    cb=f.colorbar(CS1, cax=cbar_ax)\n",
    "    cb.ax.yaxis.set_tick_params(pad=2)\n",
    "    cb.set_label('Depth / m')\n",
    "    CS2 = ax.contour(XX[xslice]/1000,YY[yslice]/1000,depths[yslice,xslice],\n",
    "                    [Hs],\n",
    "                    colors=['k'])\n",
    "    \n",
    "    return ax"
   ]
  },
  {
   "cell_type": "code",
   "execution_count": 6,
   "metadata": {
    "collapsed": false
   },
   "outputs": [],
   "source": [
    "# Plot T, S, Tr profiles\n",
    "def Plot_tracers(ax0,ax1,state_file, color, label): \n",
    "    state = xr.open_dataset(state_file)\n",
    "    dep = state.Z[:]\n",
    "    T = state.Temp[0,:-3,50,180]\n",
    "    S = state.S[0,:-3,50,180]\n",
    "    \n",
    "    ax0.axhline(dep[29],linestyle=':',color='k',linewidth=2)\n",
    "    ax0.axhline(dep[39],linestyle=':',color='0.5',linewidth=2)\n",
    "    \n",
    "    ax1.axhline(dep[29],linestyle=':',color='k',linewidth=2)\n",
    "    ax1.axhline(dep[39],linestyle=':',color='0.5',linewidth=2)\n",
    "    \n",
    "    ax0.plot(T[:], dep[:-3], color=color, label=label)\n",
    "    ax1.plot(S[:], dep[:-3], color=color, label=label)\n",
    "    "
   ]
  },
  {
   "cell_type": "code",
   "execution_count": 7,
   "metadata": {
    "collapsed": false
   },
   "outputs": [],
   "source": [
    "# Grid, state and tracers datasets of base case\n",
    "grid_file1 = '/data/kramosmu/results/TracerExperiments/UPW_10TR_BF2_AST/01_Ast03/gridGlob.nc'\n",
    "grid = xr.open_dataset(grid_file1)\n",
    "\n",
    "# Grid, state and tracers datasets of base case\n",
    "grid_file2 = '/data/kramosmu/results/TracerExperiments/UPW_10TR_BF4_BAR/01_Bar03/gridGlob.nc'\n",
    "gridBar = xr.open_dataset(grid_file2)\n",
    "\n",
    "state_ast = '/data/kramosmu/results/TracerExperiments/UPW_10TR_BF2_AST/01_Ast03/stateGlob.nc'\n",
    "state_argo = '/data/kramosmu/results/TracerExperiments/UPW_10TR_BF2_AST/03_Ast03_Argo/stateGlob.nc'\n",
    "state_bar = '/data/kramosmu/results/TracerExperiments/UPW_10TR_BF4_BAR/01_Bar03/stateGlob.nc'\n",
    "state_path = '/data/kramosmu/results/TracerExperiments/UPW_10TR_BF4_BAR/03_Bar03_Path/stateGlob.nc'\n"
   ]
  },
  {
   "cell_type": "code",
   "execution_count": 8,
   "metadata": {
    "collapsed": false
   },
   "outputs": [
    {
     "name": "stdout",
     "output_type": "stream",
     "text": [
      "<xarray.DataArray 'X' ()>\n",
      "array(280.91896454)\n",
      "Coordinates:\n",
      "    X        float64 2.809e+05\n"
     ]
    }
   ],
   "source": [
    "# General input\n",
    "nx = 616\n",
    "ny = 360\n",
    "nz = 90\n",
    "nt = 19 # t dimension size \n",
    "\n",
    "xslice=slice(100,360)\n",
    "yslice=slice(120,310)\n",
    "\n",
    "tslice = slice(8,16)\n",
    "\n",
    "xind = 240\n",
    "yind = 227 # y index for alongshore cross-section\n",
    "zind = 27\n",
    "\n",
    "hFacmaskedAst = np.ma.masked_values(grid.HFacC.data, 0)\n",
    "MaskCAst = np.ma.getmask(hFacmaskedAst)\n",
    "\n",
    "hFacmaskedBar = np.ma.masked_values(gridBar.HFacC.data, 0)\n",
    "MaskCBar = np.ma.getmask(hFacmaskedBar)\n",
    "\n",
    "print(grid.X[615]/1000)"
   ]
  },
  {
   "cell_type": "code",
   "execution_count": 9,
   "metadata": {
    "collapsed": true
   },
   "outputs": [],
   "source": [
    "zslice = slice(0,90)\n",
    "yslice = slice(0,360)\n",
    "xslice = slice(0,616)\n",
    "\n",
    "xslice2 = slice(0,616)\n",
    "zslice2 = slice(0,57)\n",
    "\n",
    "# Top view, zoom\n",
    "xslice4 = slice(90,270)\n",
    "yslice4 = slice(115,275)"
   ]
  },
  {
   "cell_type": "code",
   "execution_count": 11,
   "metadata": {
    "collapsed": false
   },
   "outputs": [
    {
     "data": {
      "image/png": "[encoded data removed]",
      "text/plain": [
       "<Figure size 432x308.16 with 7 Axes>"
      ]
     },
     "metadata": {},
     "output_type": "display_data"
    }
   ],
   "source": [
    "sns.set_style('white')\n",
    "sns.set_context('paper')\n",
    "plt.rcParams['font.size'] = 10.0\n",
    "f = plt.figure(figsize = (6,4.28)) \n",
    "\n",
    "gs = gspec.GridSpec(2, 1, height_ratios=[1,1.1], hspace=0.17)\n",
    "gs0 = gspec.GridSpecFromSubplotSpec(1, 2, subplot_spec=gs[0],width_ratios=[1.166,0.6], wspace=0.15)\n",
    "gs1 = gspec.GridSpecFromSubplotSpec(1, 4, subplot_spec=gs[1],width_ratios=[1, 0.166,0.3,0.3], wspace=0.15)\n",
    "ax4 = plt.subplot(gs1[2])\n",
    "ax5 = plt.subplot(gs1[3])\n",
    "\n",
    "# C-S slice\n",
    "ax2 = Plot1_crossshelf(gs0[0],gridBar.Y, gridBar.RC, gridBar.HFacC,-gridBar.Depth,zslice,yslice,\n",
    "                       xind_shelf=100,xind_axis=180,color='coral', color_bg='#8b7765')\n",
    "ax2 = Plot1_crossshelf(gs0[0],grid.Y, grid.RC, grid.HFacC,-grid.Depth,zslice,yslice,\n",
    "                       xind_shelf=100,xind_axis=180,color='black', color_bg='#8b7765')\n",
    "\n",
    "ax2.set_ylim(-500,0)\n",
    "ax2.set_xlim(30,80)\n",
    "\n",
    "# Top view\n",
    "ax3 = Plot3_topview(gs1[0],grid.Depth,xslice,yslice, clabels=False)\n",
    "ax6 = Plot3_topview(gs1[1],grid.Depth,xslice,yslice, clabels=False)\n",
    "xlim_ax3 = 160000\n",
    "xlim_ax6 = 281000\n",
    "min_xlim_ax6 = 261000\n",
    "ax3.axhline(y=48,xmin=0, xmax=(grid.X[60]/xlim_ax3), linewidth=3, color='0.7')\n",
    "ax3.axhline(y=48,xmin=(grid.X[60]/xlim_ax3), xmax=(grid.X[120]/xlim_ax3),\n",
    "            linewidth=3, color='0.3')\n",
    "ax3.axhline(y=48,xmin=(grid.X[120]/xlim_ax3), xmax=(grid.X[240]/xlim_ax3),\n",
    "            linewidth=3, color='0.7')\n",
    "ax3.axhline(y=48,xmin=(grid.X[240]/xlim_ax3), xmax=(grid.X[300]/xlim_ax3),\n",
    "            linewidth=3, color='0.3')\n",
    "ax3.axhline(y=48,xmin=(grid.X[300]/xlim_ax3), xmax=(grid.X[360]/xlim_ax3),\n",
    "            linewidth=3, color='0.7')\n",
    "ax3.axhline(y=48,xmin=(grid.X[360]/xlim_ax3), xmax=(grid.X[615]/xlim_ax3),\n",
    "            linewidth=3, color='0.3')\n",
    "\n",
    "ax6.axhline(y=48,xmin=0, xmax=1,\n",
    "            linewidth=3, color='0.3')\n",
    "ax3.set_xlim(0,xlim_ax3/1000)\n",
    "ax6.set_xlim(261,xlim_ax6/1000)\n",
    "ax3.set_aspect(1)\n",
    "ax6.set_aspect(1)\n",
    "ax3.spines['right'].set_visible(False)\n",
    "ax6.spines['left'].set_visible(False)\n",
    "ax3.yaxis.tick_left()\n",
    "ax3.tick_params(labelright='off')\n",
    "ax6.set_yticks([40])\n",
    "ax6.set_yticklabels([''])\n",
    "ax6.set_xticks([280])\n",
    "\n",
    "#Zoom, top view\n",
    "ax1 = top_zoom_filled(gs0[1],grid.X, grid.Y,grid.Depth,xslice4,yslice4,150,\n",
    "                      [0,50,100,150,200,250,300,350,400,450,500,550,600,650,700])\n",
    "ax1 = top_zoom(gs0[1],gridBar.X, gridBar.Y,gridBar.Depth,xslice4,yslice4,200,[100,150,200,250,300,350,400])\n",
    "\n",
    "ax1.set_xticks([45,50,55,60,65,70,75])\n",
    "ax1.set_xticklabels(['','50','55','60','65','70',''])\n",
    "ax1.set_aspect('equal')\n",
    "\n",
    "ax1.tick_params(axis='x', pad=2)\n",
    "ax2.tick_params(axis='x', pad=2)\n",
    "ax3.tick_params(axis='x', pad=2)\n",
    "ax4.tick_params(axis='x', pad=2)\n",
    "ax5.tick_params(axis='x', pad=2)\n",
    "ax6.tick_params(axis='x', pad=2)\n",
    "\n",
    "ax1.tick_params(axis='y', pad=1)\n",
    "ax2.tick_params(axis='y', pad=1)\n",
    "ax3.tick_params(axis='y', pad=1)\n",
    "ax4.tick_params(axis='y', pad=1)\n",
    "ax5.tick_params(axis='y', pad=1)\n",
    "ax6.tick_params(axis='y', pad=1)\n",
    "\n",
    "\n",
    "ax2.set_xlabel('C-S distance / km',labelpad=1)\n",
    "ax2.set_ylabel('Depth / m',labelpad=1)\n",
    "\n",
    "ax1.set_xlabel('Alongshelf distance / km',labelpad=1,)\n",
    "ax3.set_xlabel('Alongshelf distance / km',labelpad=1)\n",
    "\n",
    "ax1.set_ylabel('C-S / km',labelpad=1)\n",
    "ax3.set_ylabel('C-S distance / km',labelpad=1)\n",
    "\n",
    "\n",
    "colors = ['darkblue', 'royalblue', 'rebeccapurple','mediumpurple']\n",
    "labels = ['AST', 'ARGO', 'BAR', 'PATH']\n",
    "for file, col, lab in zip([state_ast,state_argo, state_bar, state_path], colors, labels):\n",
    "    Plot_tracers(ax4,ax5,file,col, lab)\n",
    "ax4.set_ylim(grid.Z[-3],0)\n",
    "ax5.set_ylim(grid.Z[-3],0)\n",
    "ax4.legend(bbox_to_anchor=(0.35,0.46), handlelength=0.7, handletextpad=0.1, frameon=True, facecolor='w', framealpha=1)\n",
    "ax5.set_xlabel('S / g kg$^{-1}$', labelpad=0)\n",
    "ax4.set_xlabel('T / C$^{\\circ}$', labelpad=0)\n",
    "ax4.set_yticks([])\n",
    "ax5.yaxis.tick_right()\n",
    "ax5.yaxis.set_label_position(\"right\")\n",
    "\n",
    "ax1.text(0.88,0.9,'(b)',fontsize=9,transform=ax1.transAxes, fontweight='bold')\n",
    "ax2.text(0.92,0.05,'(a)',transform=ax2.transAxes,fontsize=9,fontweight='bold')\n",
    "ax3.text(0.02,0.9,'(c)',fontsize=9,transform=ax3.transAxes,fontweight='bold')\n",
    "ax4.text(0.05,0.92,'(d)',transform=ax4.transAxes,fontsize=9,fontweight='bold')\n",
    "ax5.text(0.8,0.92,'(e)',transform=ax5.transAxes,fontsize=9, fontweight='bold')\n",
    "\n",
    "plt.savefig('fig_bathy.pdf',format='pdf',bbox_inches='tight')\n"
   ]
  },
  {
   "cell_type": "code",
   "execution_count": 12,
   "metadata": {
    "collapsed": false
   },
   "outputs": [
    {
     "data": {
      "image/png": "[encoded data removed]",
      "text/plain": [
       "<Figure size 748.8x514.8 with 1 Axes>"
      ]
     },
     "metadata": {},
     "output_type": "display_data"
    }
   ],
   "source": [
    "sns.set_context('talk')\n",
    "sns.set_style('white')\n",
    "\n",
    "    \n",
    "fig, ax = plt.subplots(1,1)\n",
    "    \n",
    "ax.contour(grid.X[xslice]/1000,grid.Y[yslice]/1000,grid.Depth[yslice,xslice],[147.5],\n",
    "           colors=['k'])\n",
    "CS=ax.contour(grid.X[xslice]/1000,grid.Y[yslice]/1000,grid.Depth[yslice,xslice],[20,100,200,400,600,800,1000,1200],\n",
    "              colors=['0.6','0.6','0.6','0.6','0.6','0.6','0.6','0.6'])\n",
    "#plt.clabel(CS, fontsize=9,inline=1,inline_spacing=1,manual=[[250,70],[20,60],[250,45]],\n",
    "#           fmt = '%1.0f', ticks=[20,100,200])\n",
    "plt.clabel(CS, fontsize=13,inline=1,inline_spacing=1,\n",
    "           fmt = '%1.0f', ticks=[400,600,800,1000])\n",
    "\n",
    "\n",
    "ax.arrow(10, 66, 30, 0 , width = 3, head_width=10, head_length=10, fc=sns.xkcd_rgb['ocean blue'], ec='k')\n",
    "ax.arrow(10, 20, 30, 0 , width = 3, head_width=10, head_length=10, fc=sns.xkcd_rgb['ocean blue'], ec='k')\n",
    "ax.text(10,75,'Alongshelf current',color=sns.xkcd_rgb['ocean blue'] )\n",
    "ax.set_aspect(1)\n",
    "ax.set_ylabel('Cross-shelf distance (km)')    \n",
    "ax.set_xlabel('Alongshelf distance (km)')    \n",
    "\n",
    "plt.savefig('bathy_pres.eps',format='eps',bbox_inches='tight')\n"
   ]
  },
  {
   "cell_type": "code",
   "execution_count": 201,
   "metadata": {
    "collapsed": false
   },
   "outputs": [
    {
     "data": {
      "text/plain": [
       "1.4"
      ]
     },
     "execution_count": 201,
     "metadata": {},
     "output_type": "execute_result"
    }
   ],
   "source": [
    "7/5"
   ]
  },
  {
   "cell_type": "code",
   "execution_count": 202,
   "metadata": {
    "collapsed": false
   },
   "outputs": [
    {
     "data": {
      "text/plain": [
       "4.285714285714286"
      ]
     },
     "execution_count": 202,
     "metadata": {},
     "output_type": "execute_result"
    }
   ],
   "source": [
    "6/1.4"
   ]
  },
  {
   "cell_type": "code",
   "execution_count": null,
   "metadata": {
    "collapsed": true
   },
   "outputs": [],
   "source": []
  }
 ],
 "metadata": {
  "anaconda-cloud": {},
  "kernelspec": {
   "display_name": "Python [default]",
   "language": "python",
   "name": "python3"
  },
  "language_info": {
   "codemirror_mode": {
    "name": "ipython",
    "version": 3
   },
   "file_extension": ".py",
   "mimetype": "text/x-python",
   "name": "python",
   "nbconvert_exporter": "python",
   "pygments_lexer": "ipython3",
   "version": "3.5.4"
  }
 },
 "nbformat": 4,
 "nbformat_minor": 1
}

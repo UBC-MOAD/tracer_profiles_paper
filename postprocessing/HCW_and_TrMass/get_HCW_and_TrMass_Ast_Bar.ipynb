{
 "cells": [
  {
   "cell_type": "markdown",
   "metadata": {},
   "source": [
    "# Calculate and save HCW and tracer mass on shelf \n",
    "\n",
    "It has the same content as the script but I couldn't run ir remotely because of the netcdf library load."
   ]
  },
  {
   "cell_type": "code",
   "execution_count": 1,
   "metadata": {},
   "outputs": [],
   "source": [
    "# Calculate and save HCW and tracer mass on shelf\n",
    "from netCDF4 import Dataset\n",
    "import numpy as np\n",
    "import pandas as pd\n",
    "\n",
    "import canyon_tools.metrics_tools as mtt \n",
    "import canyon_tools.readout_tools as rout"
   ]
  },
  {
   "cell_type": "code",
   "execution_count": 2,
   "metadata": {},
   "outputs": [],
   "source": [
    "# -------------------------------------------------------------------------------------------------------------------------\n",
    "def Tracer_AlongShelf(Tr,TrAdv,MaskC,rA,hFacC,drF,yin,zfin,xi,yi,nzlim):\n",
    "    '''\n",
    "    INPUT----------------------------------------------------------------------------------------------------------------\n",
    "    Tr    : Array with concentration values for a tracer. Until this function is more general, size 19x90x360x360\n",
    "    TrAdv : Array with concentration values for low diffusivity tracer. Until this function is more general, size 19x90x360x360\n",
    "    MaskC : Land mask for tracer\n",
    "    nzlim : The nz index under which to look for water properties\n",
    "    rA    : Area of cell faces at C points (360x360)\n",
    "    fFacC : Fraction of open cell (104x360x360)\n",
    "    drF   : Distance between cell faces (104)\n",
    "    yin   : across-shore index of shelf break\n",
    "    zfin  : shelf break index + 1 \n",
    "    xi    : initial profile x index\n",
    "    yi    : initial profile y index\n",
    "    \n",
    "    OUTPUT----------------------------------------------------------------------------------------------------------------\n",
    "    TrMass =  Array with the mass of tracer over the shelf in HCW [t,360] at every time output.\n",
    "    Total_Tracer =  Array with the mass of tracer (m^3*[C]*l/m^3) at each x-position over the shelf [t,360] at \n",
    "                    every time output. \n",
    "    -----------------------------------------------------------------------------------------------------------------------\n",
    "    '''\n",
    "    maskExp = mtt.maskExpand(MaskC,TrAdv)\n",
    "\n",
    "    TrMask=np.ma.array(TrAdv,mask=maskExp)   \n",
    "    Tr1Mask=np.ma.array(Tr,mask=maskExp)   \n",
    "    \n",
    "    trlim1 = TrMask[0,nzlim,yi,xi]\n",
    "    trlim = (trlim1)\n",
    "\n",
    "    print('tracer limit concentration is: ',trlim)\n",
    "    \n",
    "    # mask cells with tracer concentration < trlim on shelf\n",
    "    HighConc_Masked = np.ma.masked_less(TrMask[:,:zfin,yin:,:], trlim) \n",
    "    HighConc_Mask = HighConc_Masked.mask\n",
    "\n",
    "    #Get volume of water of cells with relatively high concentration\n",
    "    rA_exp = np.expand_dims(rA[yin:,:],0)\n",
    "    drF_exp = np.expand_dims(np.expand_dims(drF[:zfin],1),1)\n",
    "    rA_exp = rA_exp + np.zeros(hFacC[:zfin,yin:,:].shape)\n",
    "    drF_exp = drF_exp + np.zeros(hFacC[:zfin,yin:,:].shape)\n",
    "\n",
    "    ShelfVolume = hFacC[:zfin,yin:,:]*drF_exp*rA_exp\n",
    "    ShelfVolume_exp = np.expand_dims(ShelfVolume,0)\n",
    "    ShelfVolume_exp = ShelfVolume_exp + np.zeros(HighConc_Mask.shape)\n",
    "   \n",
    "    HighConc_CellVol = np.ma.masked_array(ShelfVolume_exp,mask = HighConc_Mask) \n",
    "    TrConc_HCW = np.ma.masked_array(Tr[:,:zfin,yin:,:],mask = HighConc_Mask) \n",
    "\n",
    "    MassTrHighConc =np.ma.sum(np.ma.sum(np.ma.sum(HighConc_CellVol*TrConc_HCW,axis = 1),axis=1),axis=1)\n",
    "\n",
    "    #Get total mass of tracer on shelf\n",
    "    Total_Tracer = np.ma.sum(np.ma.sum(np.ma.sum(ShelfVolume_exp*Tr1Mask[:,:zfin,yin:,:],axis = 1),axis=1),axis=1)\n",
    "    \n",
    "    return (MassTrHighConc, Total_Tracer)"
   ]
  },
  {
   "cell_type": "markdown",
   "metadata": {},
   "source": [
    "### Input\n",
    "only change vars here"
   ]
  },
  {
   "cell_type": "code",
   "execution_count": 3,
   "metadata": {},
   "outputs": [],
   "source": [
    "# Load grid files\n",
    "CanyonGrid='/data/kramosmu/results/TracerExperiments/REV_10TR_BF2_AST/03_dnw_pool/gridGlob.nc'\n",
    "CanyonGridOut = Dataset(CanyonGrid)\n",
    "\n",
    "CanyonGridNoC='/data/kramosmu/results/TracerExperiments/REV_10TR_BF2_AST/04_dnw_pool_noc/gridGlob.nc'\n",
    "CanyonGridOutNoC = Dataset(CanyonGridNoC)\n",
    "\n",
    "CanyonState='/data/kramosmu/results/TracerExperiments/REV_10TR_BF2_AST/03_dnw_pool/stateGlob.nc'\n",
    "CanyonStateOut = Dataset(CanyonState)\n",
    "\n",
    "# filenames ptracers canyon and no canyon cases\n",
    "ptr_file = ('/data/kramosmu/results/TracerExperiments/REV_10TR_BF2_AST/03_dnw_pool/ptracersGlob.nc' )\n",
    "ptr_file_NoC = ('/data/kramosmu/results/TracerExperiments/REV_10TR_BF2_AST/04_dnw_pool_noc/ptracersGlob.nc' )\n",
    "\n",
    "# Grid params\n",
    "nx = 616\n",
    "ny = 360\n",
    "nz = 104 # Orig. 90\n",
    "nt = 19 # t dimension size \n",
    "\n",
    "# Indices shelf box, etc\n",
    "xi = 180\n",
    "yi = 50\n",
    "nzlim = 29 # Bar:39, Ast:29, Orig:29\n",
    "zfin = 30 # Bar:40, Ast:30, Orig:30\n",
    "xfin = 615\n",
    "yin =130 # Orig: 225\n",
    "\n",
    "# Tracer keys\n",
    "keys = ['Tr01','Tr02','Tr03','Tr04','Tr05','Tr06','Tr07','Tr08','Tr09','Tr10']\n",
    "keyAdv = 'Tr01' # tracer used to track water (linear, Kv=10^-7)\n",
    "\n",
    "# Experiment id\n",
    "run = 'REV_10TR_BF2_AST_03'\n",
    "run_NoC = 'REV_10TR_BF2_AST_04'\n",
    "exp = 'REV_10TR_BF2_AST'\n",
    "\n",
    "# Grid variables\n",
    "xc = rout.getField(CanyonGrid, 'XC') # x coords tracer cells\n",
    "yc = rout.getField(CanyonGrid, 'YC') # y coords tracer cells\n",
    "rc = CanyonGridOut.variables['RC']\n",
    "dxg = rout.getField(CanyonGrid, 'dxG') # x coords tracer cells\n",
    "dyg = rout.getField(CanyonGrid, 'dyG') # y coords tracer cells\n",
    "\n",
    "bathy = rout.getField(CanyonGrid, 'Depth')\n",
    "hFacC = CanyonGridOut.variables['HFacC'][:zfin+1,:,:] \n",
    "hFacmasked = np.ma.masked_values(hFacC, 0)\n",
    "MaskC = np.ma.getmask(hFacmasked)\n",
    "\n",
    "bathyNoC = rout.getField(CanyonGridNoC, 'Depth')\n",
    "hFacCNoC = CanyonGridOutNoC.variables['HFacC'][:zfin+1,:,:] \n",
    "hFacmaskedNoC = np.ma.masked_values(hFacCNoC, 0)\n",
    "MaskCNoC = np.ma.getmask(hFacmaskedNoC)\n",
    "\n",
    "rA = rout.getField(CanyonGridNoC, 'rA')\n",
    "\n",
    "z = CanyonStateOut.variables['Z']\n",
    "drF = CanyonGridOut.variables['drF']\n",
    "time = CanyonStateOut.variables['T']"
   ]
  },
  {
   "cell_type": "code",
   "execution_count": 4,
   "metadata": {},
   "outputs": [
    {
     "name": "stdout",
     "output_type": "stream",
     "text": [
      "tracer limit concentration is:  7.1779594\n",
      "tracer limit concentration is:  7.1779594\n",
      "/data/kramosmu/results/TracerExperiments/REV_10TR_BF2_AST/HCW_TrMass_Tr01_REV_10TR_BF2_AST_03.csv\n",
      "tracer limit concentration is:  7.1779594\n",
      "tracer limit concentration is:  7.1779594\n",
      "/data/kramosmu/results/TracerExperiments/REV_10TR_BF2_AST/HCW_TrMass_Tr02_REV_10TR_BF2_AST_03.csv\n",
      "tracer limit concentration is:  7.1779594\n",
      "tracer limit concentration is:  7.1779594\n",
      "/data/kramosmu/results/TracerExperiments/REV_10TR_BF2_AST/HCW_TrMass_Tr03_REV_10TR_BF2_AST_03.csv\n",
      "tracer limit concentration is:  7.1779594\n",
      "tracer limit concentration is:  7.1779594\n",
      "/data/kramosmu/results/TracerExperiments/REV_10TR_BF2_AST/HCW_TrMass_Tr04_REV_10TR_BF2_AST_03.csv\n",
      "tracer limit concentration is:  7.1779594\n",
      "tracer limit concentration is:  7.1779594\n",
      "/data/kramosmu/results/TracerExperiments/REV_10TR_BF2_AST/HCW_TrMass_Tr05_REV_10TR_BF2_AST_03.csv\n",
      "tracer limit concentration is:  7.1779594\n",
      "tracer limit concentration is:  7.1779594\n",
      "/data/kramosmu/results/TracerExperiments/REV_10TR_BF2_AST/HCW_TrMass_Tr06_REV_10TR_BF2_AST_03.csv\n",
      "tracer limit concentration is:  7.1779594\n",
      "tracer limit concentration is:  7.1779594\n",
      "/data/kramosmu/results/TracerExperiments/REV_10TR_BF2_AST/HCW_TrMass_Tr07_REV_10TR_BF2_AST_03.csv\n",
      "tracer limit concentration is:  7.1779594\n",
      "tracer limit concentration is:  7.1779594\n",
      "/data/kramosmu/results/TracerExperiments/REV_10TR_BF2_AST/HCW_TrMass_Tr08_REV_10TR_BF2_AST_03.csv\n",
      "tracer limit concentration is:  7.1779594\n",
      "tracer limit concentration is:  7.1779594\n",
      "/data/kramosmu/results/TracerExperiments/REV_10TR_BF2_AST/HCW_TrMass_Tr09_REV_10TR_BF2_AST_03.csv\n",
      "tracer limit concentration is:  7.1779594\n",
      "tracer limit concentration is:  7.1779594\n",
      "/data/kramosmu/results/TracerExperiments/REV_10TR_BF2_AST/HCW_TrMass_Tr10_REV_10TR_BF2_AST_03.csv\n"
     ]
    }
   ],
   "source": [
    "for key in keys:\n",
    "    \n",
    "    Tr = Dataset(ptr_file).variables[key][:,:zfin+1,:,:] \n",
    "    TrAdv = Dataset(ptr_file).variables[keyAdv][:,:zfin+1,:,:] \n",
    "\n",
    "    TrMassHCW, TotTrMass = Tracer_AlongShelf(Tr,TrAdv, MaskCNoC[:zfin+1,:,:], rA, \n",
    "                                             hFacCNoC, drF[:zfin+1],yin,zfin,xi,yi,nzlim)\n",
    "    HCW = mtt.calc_HCW(TrAdv, MaskCNoC[:zfin+1,:,:], rA, hFacCNoC, drF[:zfin+1],nzlim=nzlim, yin=yin, \n",
    "                       xin=0, xfin=xfin, zfin=zfin, xi=xi, yi=yi)\n",
    "\n",
    "    raw_data = {'time' : time,'HCW': HCW,'TrMassHCW': TrMassHCW,'TotTrMass':TotTrMass}\n",
    "    df = pd.DataFrame(raw_data, columns = ['time' ,'HCW','TrMassHCW','TotTrMass'])\n",
    "\n",
    "    filename1 = ('/data/kramosmu/results/TracerExperiments/%s/HCW_TrMass_%s_%s.csv' %(exp,key,run))\n",
    "    df.to_csv(filename1)\n",
    "    print(filename1)"
   ]
  },
  {
   "cell_type": "markdown",
   "metadata": {},
   "source": [
    "### No canyon runs"
   ]
  },
  {
   "cell_type": "code",
   "execution_count": 5,
   "metadata": {},
   "outputs": [
    {
     "name": "stdout",
     "output_type": "stream",
     "text": [
      "tracer limit concentration is:  7.1961036\n",
      "tracer limit concentration is:  7.1961036\n",
      "/data/kramosmu/results/TracerExperiments/REV_10TR_BF2_AST/HCW_TrMass_Tr01_REV_10TR_BF2_AST_04.csv\n",
      "tracer limit concentration is:  7.1961036\n",
      "tracer limit concentration is:  7.1961036\n",
      "/data/kramosmu/results/TracerExperiments/REV_10TR_BF2_AST/HCW_TrMass_Tr02_REV_10TR_BF2_AST_04.csv\n",
      "tracer limit concentration is:  7.1961036\n",
      "tracer limit concentration is:  7.1961036\n",
      "/data/kramosmu/results/TracerExperiments/REV_10TR_BF2_AST/HCW_TrMass_Tr03_REV_10TR_BF2_AST_04.csv\n",
      "tracer limit concentration is:  7.1961036\n",
      "tracer limit concentration is:  7.1961036\n",
      "/data/kramosmu/results/TracerExperiments/REV_10TR_BF2_AST/HCW_TrMass_Tr04_REV_10TR_BF2_AST_04.csv\n",
      "tracer limit concentration is:  7.1961036\n",
      "tracer limit concentration is:  7.1961036\n",
      "/data/kramosmu/results/TracerExperiments/REV_10TR_BF2_AST/HCW_TrMass_Tr05_REV_10TR_BF2_AST_04.csv\n",
      "tracer limit concentration is:  7.1961036\n",
      "tracer limit concentration is:  7.1961036\n",
      "/data/kramosmu/results/TracerExperiments/REV_10TR_BF2_AST/HCW_TrMass_Tr06_REV_10TR_BF2_AST_04.csv\n",
      "tracer limit concentration is:  7.1961036\n",
      "tracer limit concentration is:  7.1961036\n",
      "/data/kramosmu/results/TracerExperiments/REV_10TR_BF2_AST/HCW_TrMass_Tr07_REV_10TR_BF2_AST_04.csv\n",
      "tracer limit concentration is:  7.1961036\n",
      "tracer limit concentration is:  7.1961036\n",
      "/data/kramosmu/results/TracerExperiments/REV_10TR_BF2_AST/HCW_TrMass_Tr08_REV_10TR_BF2_AST_04.csv\n",
      "tracer limit concentration is:  7.1961036\n",
      "tracer limit concentration is:  7.1961036\n",
      "/data/kramosmu/results/TracerExperiments/REV_10TR_BF2_AST/HCW_TrMass_Tr09_REV_10TR_BF2_AST_04.csv\n",
      "tracer limit concentration is:  7.1961036\n",
      "tracer limit concentration is:  7.1961036\n",
      "/data/kramosmu/results/TracerExperiments/REV_10TR_BF2_AST/HCW_TrMass_Tr10_REV_10TR_BF2_AST_04.csv\n"
     ]
    }
   ],
   "source": [
    "for key in keys:\n",
    "\n",
    "    TrNoC = Dataset(ptr_file_NoC).variables[key][:,:zfin+1,:,:] \n",
    "    TrNoCAdv = Dataset(ptr_file_NoC).variables[keyAdv][:,:zfin+1,:,:] \n",
    "\n",
    "    TrMassHCW, TotTrMass = Tracer_AlongShelf(TrNoC,TrNoCAdv, MaskCNoC, rA, hFacCNoC, \n",
    "                                             drF[:zfin+1],yin,zfin,xi,yi,nzlim)\n",
    "    HCW = mtt.calc_HCW(TrNoCAdv, MaskCNoC[:zfin+1,:,:], rA, hFacCNoC, drF[:zfin+1],nzlim=nzlim, yin=yin, \n",
    "                       xin=0, xfin=xfin, zfin=zfin, xi=xi, yi=yi)\n",
    "\n",
    "    raw_data = {'time' : time,'HCW': HCW,'TrMassHCW': TrMassHCW,'TotTrMass':TotTrMass}\n",
    "    df = pd.DataFrame(raw_data, columns = ['time' ,'HCW','TrMassHCW','TotTrMass'])\n",
    "\n",
    "    filename2 = ('/data/kramosmu/results/TracerExperiments/%s/HCW_TrMass_%s_%s.csv' %(exp,key,run_NoC))\n",
    "    df.to_csv(filename2)\n",
    "    print(filename2)"
   ]
  },
  {
   "cell_type": "code",
   "execution_count": null,
   "metadata": {},
   "outputs": [],
   "source": []
  },
  {
   "cell_type": "code",
   "execution_count": 6,
   "metadata": {},
   "outputs": [
    {
     "data": {
      "text/plain": [
       "6.0"
      ]
     },
     "execution_count": 6,
     "metadata": {},
     "output_type": "execute_result"
    }
   ],
   "source": [
    "(12960*40)/(24*3600)"
   ]
  },
  {
   "cell_type": "code",
   "execution_count": null,
   "metadata": {},
   "outputs": [],
   "source": []
  }
 ],
 "metadata": {
  "anaconda-cloud": {},
  "kernelspec": {
   "display_name": "Python [conda root]",
   "language": "python",
   "name": "conda-root-py"
  },
  "language_info": {
   "codemirror_mode": {
    "name": "ipython",
    "version": 3
   },
   "file_extension": ".py",
   "mimetype": "text/x-python",
   "name": "python",
   "nbconvert_exporter": "python",
   "pygments_lexer": "ipython3",
   "version": "3.5.4"
  }
 },
 "nbformat": 4,
 "nbformat_minor": 1
}
